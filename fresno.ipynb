{
 "cells": [
  {
   "cell_type": "code",
   "execution_count": 1,
   "metadata": {
    "collapsed": true
   },
   "outputs": [],
   "source": [
    "%matplotlib inline\n",
    "import numpy as np\n",
    "import pandas as pd"
   ]
  },
  {
   "cell_type": "code",
   "execution_count": 2,
   "metadata": {},
   "outputs": [
    {
     "name": "stdout",
     "output_type": "stream",
     "text": [
      " CO_PICKDATA_2014-12-31.csv\t      PM25HR_PICKDATA_2015-12-31.csv\r\n",
      " CO_PICKDATA_2015-12-31.csv\t      PM25HR_PICKDATA_2016-12-31.csv\r\n",
      " CO_PICKDATA_2016-12-31.csv\t      SORAD_PICKDATA_2014-12-31.csv\r\n",
      " NOX_PICKDATA_2014-12-31.csv\t      SORAD_PICKDATA_2015-12-31.csv\r\n",
      " NOX_PICKDATA_2015-12-31.csv\t      SORAD_PICKDATA_2016-12-31.csv\r\n",
      " NOX_PICKDATA_2016-12-31.csv\t      TEMP_PICKDATA_2014-12-31.csv\r\n",
      "'OZONE_PICKDATA_2014-12-31 (1).csv'   TEMP_PICKDATA_2015-12-31.csv\r\n",
      " OZONE_PICKDATA_2015-12-31.csv\t     'TEMP_PICKDATA_2016-12-31 (1).csv'\r\n",
      " OZONE_PICKDATA_2016-12-31.csv\t      TEMP_PICKDATA_2016-12-31.csv\r\n",
      " PM10_LHR_PICKDATA_2014-12-31.csv     WINSPD_PICKDATA_2014-12-31.csv\r\n",
      " PM10_LHR_PICKDATA_2015-12-31.csv     WINSPD_PICKDATA_2015-12-31.csv\r\n",
      " PM10_LHR_PICKDATA_2016-12-31.csv     WINSPD_PICKDATA_2016-12-31.csv\r\n",
      " PM25HR_PICKDATA_2014-12-31.csv\r\n"
     ]
    }
   ],
   "source": [
    "!ls data/Fresno/"
   ]
  },
  {
   "cell_type": "code",
   "execution_count": 3,
   "metadata": {
    "collapsed": true
   },
   "outputs": [],
   "source": [
    "filename = 'data/Fresno/TEMP_PICKDATA_2016-12-31 (1).csv'"
   ]
  },
  {
   "cell_type": "code",
   "execution_count": 4,
   "metadata": {},
   "outputs": [
    {
     "data": {
      "text/html": [
       "<div>\n",
       "<style>\n",
       "    .dataframe thead tr:only-child th {\n",
       "        text-align: right;\n",
       "    }\n",
       "\n",
       "    .dataframe thead th {\n",
       "        text-align: left;\n",
       "    }\n",
       "\n",
       "    .dataframe tbody tr th {\n",
       "        vertical-align: top;\n",
       "    }\n",
       "</style>\n",
       "<table border=\"1\" class=\"dataframe\">\n",
       "  <thead>\n",
       "    <tr style=\"text-align: right;\">\n",
       "      <th></th>\n",
       "      <th>site</th>\n",
       "      <th>date</th>\n",
       "      <th>start_hour</th>\n",
       "      <th>value</th>\n",
       "      <th>variable</th>\n",
       "      <th>units</th>\n",
       "      <th>quality</th>\n",
       "      <th>prelim</th>\n",
       "      <th>met_source</th>\n",
       "      <th>obs_type</th>\n",
       "      <th>minutes</th>\n",
       "      <th>name</th>\n",
       "    </tr>\n",
       "  </thead>\n",
       "  <tbody>\n",
       "    <tr>\n",
       "      <th>0</th>\n",
       "      <td>3781</td>\n",
       "      <td>2016-01-01</td>\n",
       "      <td>0.0</td>\n",
       "      <td>2.77</td>\n",
       "      <td>TEMP</td>\n",
       "      <td>Degrees Celsius ( &lt;sup&gt;o&lt;/sup&gt;C )</td>\n",
       "      <td>0.0</td>\n",
       "      <td>y</td>\n",
       "      <td>NaN</td>\n",
       "      <td>H</td>\n",
       "      <td>-99.0</td>\n",
       "      <td>Fresno-Garland</td>\n",
       "    </tr>\n",
       "    <tr>\n",
       "      <th>1</th>\n",
       "      <td>3781</td>\n",
       "      <td>2016-01-01</td>\n",
       "      <td>1.0</td>\n",
       "      <td>2.24</td>\n",
       "      <td>TEMP</td>\n",
       "      <td>Degrees Celsius ( &lt;sup&gt;o&lt;/sup&gt;C )</td>\n",
       "      <td>0.0</td>\n",
       "      <td>y</td>\n",
       "      <td>NaN</td>\n",
       "      <td>H</td>\n",
       "      <td>-99.0</td>\n",
       "      <td>Fresno-Garland</td>\n",
       "    </tr>\n",
       "    <tr>\n",
       "      <th>2</th>\n",
       "      <td>3781</td>\n",
       "      <td>2016-01-01</td>\n",
       "      <td>2.0</td>\n",
       "      <td>1.61</td>\n",
       "      <td>TEMP</td>\n",
       "      <td>Degrees Celsius ( &lt;sup&gt;o&lt;/sup&gt;C )</td>\n",
       "      <td>0.0</td>\n",
       "      <td>y</td>\n",
       "      <td>NaN</td>\n",
       "      <td>H</td>\n",
       "      <td>-99.0</td>\n",
       "      <td>Fresno-Garland</td>\n",
       "    </tr>\n",
       "    <tr>\n",
       "      <th>3</th>\n",
       "      <td>3781</td>\n",
       "      <td>2016-01-01</td>\n",
       "      <td>3.0</td>\n",
       "      <td>1.30</td>\n",
       "      <td>TEMP</td>\n",
       "      <td>Degrees Celsius ( &lt;sup&gt;o&lt;/sup&gt;C )</td>\n",
       "      <td>0.0</td>\n",
       "      <td>y</td>\n",
       "      <td>NaN</td>\n",
       "      <td>H</td>\n",
       "      <td>-99.0</td>\n",
       "      <td>Fresno-Garland</td>\n",
       "    </tr>\n",
       "    <tr>\n",
       "      <th>4</th>\n",
       "      <td>3781</td>\n",
       "      <td>2016-01-01</td>\n",
       "      <td>4.0</td>\n",
       "      <td>0.73</td>\n",
       "      <td>TEMP</td>\n",
       "      <td>Degrees Celsius ( &lt;sup&gt;o&lt;/sup&gt;C )</td>\n",
       "      <td>0.0</td>\n",
       "      <td>y</td>\n",
       "      <td>NaN</td>\n",
       "      <td>H</td>\n",
       "      <td>-99.0</td>\n",
       "      <td>Fresno-Garland</td>\n",
       "    </tr>\n",
       "  </tbody>\n",
       "</table>\n",
       "</div>"
      ],
      "text/plain": [
       "   site        date  start_hour  value variable  \\\n",
       "0  3781  2016-01-01         0.0   2.77     TEMP   \n",
       "1  3781  2016-01-01         1.0   2.24     TEMP   \n",
       "2  3781  2016-01-01         2.0   1.61     TEMP   \n",
       "3  3781  2016-01-01         3.0   1.30     TEMP   \n",
       "4  3781  2016-01-01         4.0   0.73     TEMP   \n",
       "\n",
       "                               units  quality prelim  met_source obs_type  \\\n",
       "0  Degrees Celsius ( <sup>o</sup>C )      0.0      y         NaN        H   \n",
       "1  Degrees Celsius ( <sup>o</sup>C )      0.0      y         NaN        H   \n",
       "2  Degrees Celsius ( <sup>o</sup>C )      0.0      y         NaN        H   \n",
       "3  Degrees Celsius ( <sup>o</sup>C )      0.0      y         NaN        H   \n",
       "4  Degrees Celsius ( <sup>o</sup>C )      0.0      y         NaN        H   \n",
       "\n",
       "   minutes                                      name   \n",
       "0    -99.0  Fresno-Garland                             \n",
       "1    -99.0  Fresno-Garland                             \n",
       "2    -99.0  Fresno-Garland                             \n",
       "3    -99.0  Fresno-Garland                             \n",
       "4    -99.0  Fresno-Garland                             "
      ]
     },
     "execution_count": 4,
     "metadata": {},
     "output_type": "execute_result"
    }
   ],
   "source": [
    "df1 = pd.read_csv(filename, parse_dates=[1])\n",
    "df1.head()"
   ]
  },
  {
   "cell_type": "code",
   "execution_count": 5,
   "metadata": {},
   "outputs": [
    {
     "data": {
      "text/html": [
       "<div>\n",
       "<style>\n",
       "    .dataframe thead tr:only-child th {\n",
       "        text-align: right;\n",
       "    }\n",
       "\n",
       "    .dataframe thead th {\n",
       "        text-align: left;\n",
       "    }\n",
       "\n",
       "    .dataframe tbody tr th {\n",
       "        vertical-align: top;\n",
       "    }\n",
       "</style>\n",
       "<table border=\"1\" class=\"dataframe\">\n",
       "  <thead>\n",
       "    <tr style=\"text-align: right;\">\n",
       "      <th></th>\n",
       "      <th>site</th>\n",
       "      <th>date</th>\n",
       "      <th>start_hour</th>\n",
       "      <th>value</th>\n",
       "      <th>variable</th>\n",
       "      <th>units</th>\n",
       "      <th>quality</th>\n",
       "      <th>prelim</th>\n",
       "      <th>met_source</th>\n",
       "      <th>obs_type</th>\n",
       "      <th>minutes</th>\n",
       "      <th>name</th>\n",
       "    </tr>\n",
       "  </thead>\n",
       "  <tbody>\n",
       "    <tr>\n",
       "      <th>8729</th>\n",
       "      <td>3781</td>\n",
       "      <td>2016-12-31</td>\n",
       "      <td>19.0</td>\n",
       "      <td>7.29</td>\n",
       "      <td>TEMP</td>\n",
       "      <td>Degrees Celsius ( &lt;sup&gt;o&lt;/sup&gt;C )</td>\n",
       "      <td>0.0</td>\n",
       "      <td>y</td>\n",
       "      <td>NaN</td>\n",
       "      <td>H</td>\n",
       "      <td>-99.0</td>\n",
       "      <td>Fresno-Garland</td>\n",
       "    </tr>\n",
       "    <tr>\n",
       "      <th>8730</th>\n",
       "      <td>3781</td>\n",
       "      <td>2016-12-31</td>\n",
       "      <td>20.0</td>\n",
       "      <td>7.08</td>\n",
       "      <td>TEMP</td>\n",
       "      <td>Degrees Celsius ( &lt;sup&gt;o&lt;/sup&gt;C )</td>\n",
       "      <td>0.0</td>\n",
       "      <td>y</td>\n",
       "      <td>NaN</td>\n",
       "      <td>H</td>\n",
       "      <td>-99.0</td>\n",
       "      <td>Fresno-Garland</td>\n",
       "    </tr>\n",
       "    <tr>\n",
       "      <th>8731</th>\n",
       "      <td>3781</td>\n",
       "      <td>2016-12-31</td>\n",
       "      <td>21.0</td>\n",
       "      <td>6.95</td>\n",
       "      <td>TEMP</td>\n",
       "      <td>Degrees Celsius ( &lt;sup&gt;o&lt;/sup&gt;C )</td>\n",
       "      <td>0.0</td>\n",
       "      <td>y</td>\n",
       "      <td>NaN</td>\n",
       "      <td>H</td>\n",
       "      <td>-99.0</td>\n",
       "      <td>Fresno-Garland</td>\n",
       "    </tr>\n",
       "    <tr>\n",
       "      <th>8732</th>\n",
       "      <td>3781</td>\n",
       "      <td>2016-12-31</td>\n",
       "      <td>22.0</td>\n",
       "      <td>6.65</td>\n",
       "      <td>TEMP</td>\n",
       "      <td>Degrees Celsius ( &lt;sup&gt;o&lt;/sup&gt;C )</td>\n",
       "      <td>0.0</td>\n",
       "      <td>y</td>\n",
       "      <td>NaN</td>\n",
       "      <td>H</td>\n",
       "      <td>-99.0</td>\n",
       "      <td>Fresno-Garland</td>\n",
       "    </tr>\n",
       "    <tr>\n",
       "      <th>8733</th>\n",
       "      <td>3781</td>\n",
       "      <td>2016-12-31</td>\n",
       "      <td>23.0</td>\n",
       "      <td>6.36</td>\n",
       "      <td>TEMP</td>\n",
       "      <td>Degrees Celsius ( &lt;sup&gt;o&lt;/sup&gt;C )</td>\n",
       "      <td>0.0</td>\n",
       "      <td>y</td>\n",
       "      <td>NaN</td>\n",
       "      <td>H</td>\n",
       "      <td>-99.0</td>\n",
       "      <td>Fresno-Garland</td>\n",
       "    </tr>\n",
       "  </tbody>\n",
       "</table>\n",
       "</div>"
      ],
      "text/plain": [
       "      site        date  start_hour  value variable  \\\n",
       "8729  3781  2016-12-31        19.0   7.29     TEMP   \n",
       "8730  3781  2016-12-31        20.0   7.08     TEMP   \n",
       "8731  3781  2016-12-31        21.0   6.95     TEMP   \n",
       "8732  3781  2016-12-31        22.0   6.65     TEMP   \n",
       "8733  3781  2016-12-31        23.0   6.36     TEMP   \n",
       "\n",
       "                                  units  quality prelim  met_source obs_type  \\\n",
       "8729  Degrees Celsius ( <sup>o</sup>C )      0.0      y         NaN        H   \n",
       "8730  Degrees Celsius ( <sup>o</sup>C )      0.0      y         NaN        H   \n",
       "8731  Degrees Celsius ( <sup>o</sup>C )      0.0      y         NaN        H   \n",
       "8732  Degrees Celsius ( <sup>o</sup>C )      0.0      y         NaN        H   \n",
       "8733  Degrees Celsius ( <sup>o</sup>C )      0.0      y         NaN        H   \n",
       "\n",
       "      minutes                                      name   \n",
       "8729    -99.0  Fresno-Garland                             \n",
       "8730    -99.0  Fresno-Garland                             \n",
       "8731    -99.0  Fresno-Garland                             \n",
       "8732    -99.0  Fresno-Garland                             \n",
       "8733    -99.0   Fresno-Garland                            "
      ]
     },
     "execution_count": 5,
     "metadata": {},
     "output_type": "execute_result"
    }
   ],
   "source": [
    "df1.dropna(subset=['start_hour'], inplace=True)\n",
    "df1.tail()"
   ]
  },
  {
   "cell_type": "code",
   "execution_count": 6,
   "metadata": {},
   "outputs": [
    {
     "data": {
      "text/html": [
       "<div>\n",
       "<style>\n",
       "    .dataframe thead tr:only-child th {\n",
       "        text-align: right;\n",
       "    }\n",
       "\n",
       "    .dataframe thead th {\n",
       "        text-align: left;\n",
       "    }\n",
       "\n",
       "    .dataframe tbody tr th {\n",
       "        vertical-align: top;\n",
       "    }\n",
       "</style>\n",
       "<table border=\"1\" class=\"dataframe\">\n",
       "  <thead>\n",
       "    <tr style=\"text-align: right;\">\n",
       "      <th></th>\n",
       "      <th>site</th>\n",
       "      <th>date</th>\n",
       "      <th>start_hour</th>\n",
       "      <th>value</th>\n",
       "      <th>variable</th>\n",
       "      <th>units</th>\n",
       "      <th>quality</th>\n",
       "      <th>prelim</th>\n",
       "      <th>met_source</th>\n",
       "      <th>obs_type</th>\n",
       "      <th>minutes</th>\n",
       "      <th>name</th>\n",
       "    </tr>\n",
       "    <tr>\n",
       "      <th>date</th>\n",
       "      <th></th>\n",
       "      <th></th>\n",
       "      <th></th>\n",
       "      <th></th>\n",
       "      <th></th>\n",
       "      <th></th>\n",
       "      <th></th>\n",
       "      <th></th>\n",
       "      <th></th>\n",
       "      <th></th>\n",
       "      <th></th>\n",
       "      <th></th>\n",
       "    </tr>\n",
       "  </thead>\n",
       "  <tbody>\n",
       "    <tr>\n",
       "      <th>2016-01-01</th>\n",
       "      <td>3781</td>\n",
       "      <td>2016-01-01</td>\n",
       "      <td>0.0</td>\n",
       "      <td>2.77</td>\n",
       "      <td>TEMP</td>\n",
       "      <td>Degrees Celsius ( &lt;sup&gt;o&lt;/sup&gt;C )</td>\n",
       "      <td>0.0</td>\n",
       "      <td>y</td>\n",
       "      <td>NaN</td>\n",
       "      <td>H</td>\n",
       "      <td>-99.0</td>\n",
       "      <td>Fresno-Garland</td>\n",
       "    </tr>\n",
       "    <tr>\n",
       "      <th>2016-01-01</th>\n",
       "      <td>3781</td>\n",
       "      <td>2016-01-01</td>\n",
       "      <td>1.0</td>\n",
       "      <td>2.24</td>\n",
       "      <td>TEMP</td>\n",
       "      <td>Degrees Celsius ( &lt;sup&gt;o&lt;/sup&gt;C )</td>\n",
       "      <td>0.0</td>\n",
       "      <td>y</td>\n",
       "      <td>NaN</td>\n",
       "      <td>H</td>\n",
       "      <td>-99.0</td>\n",
       "      <td>Fresno-Garland</td>\n",
       "    </tr>\n",
       "    <tr>\n",
       "      <th>2016-01-01</th>\n",
       "      <td>3781</td>\n",
       "      <td>2016-01-01</td>\n",
       "      <td>2.0</td>\n",
       "      <td>1.61</td>\n",
       "      <td>TEMP</td>\n",
       "      <td>Degrees Celsius ( &lt;sup&gt;o&lt;/sup&gt;C )</td>\n",
       "      <td>0.0</td>\n",
       "      <td>y</td>\n",
       "      <td>NaN</td>\n",
       "      <td>H</td>\n",
       "      <td>-99.0</td>\n",
       "      <td>Fresno-Garland</td>\n",
       "    </tr>\n",
       "    <tr>\n",
       "      <th>2016-01-01</th>\n",
       "      <td>3781</td>\n",
       "      <td>2016-01-01</td>\n",
       "      <td>3.0</td>\n",
       "      <td>1.30</td>\n",
       "      <td>TEMP</td>\n",
       "      <td>Degrees Celsius ( &lt;sup&gt;o&lt;/sup&gt;C )</td>\n",
       "      <td>0.0</td>\n",
       "      <td>y</td>\n",
       "      <td>NaN</td>\n",
       "      <td>H</td>\n",
       "      <td>-99.0</td>\n",
       "      <td>Fresno-Garland</td>\n",
       "    </tr>\n",
       "    <tr>\n",
       "      <th>2016-01-01</th>\n",
       "      <td>3781</td>\n",
       "      <td>2016-01-01</td>\n",
       "      <td>4.0</td>\n",
       "      <td>0.73</td>\n",
       "      <td>TEMP</td>\n",
       "      <td>Degrees Celsius ( &lt;sup&gt;o&lt;/sup&gt;C )</td>\n",
       "      <td>0.0</td>\n",
       "      <td>y</td>\n",
       "      <td>NaN</td>\n",
       "      <td>H</td>\n",
       "      <td>-99.0</td>\n",
       "      <td>Fresno-Garland</td>\n",
       "    </tr>\n",
       "  </tbody>\n",
       "</table>\n",
       "</div>"
      ],
      "text/plain": [
       "            site        date  start_hour  value variable  \\\n",
       "date                                                       \n",
       "2016-01-01  3781  2016-01-01         0.0   2.77     TEMP   \n",
       "2016-01-01  3781  2016-01-01         1.0   2.24     TEMP   \n",
       "2016-01-01  3781  2016-01-01         2.0   1.61     TEMP   \n",
       "2016-01-01  3781  2016-01-01         3.0   1.30     TEMP   \n",
       "2016-01-01  3781  2016-01-01         4.0   0.73     TEMP   \n",
       "\n",
       "                                        units  quality prelim  met_source  \\\n",
       "date                                                                        \n",
       "2016-01-01  Degrees Celsius ( <sup>o</sup>C )      0.0      y         NaN   \n",
       "2016-01-01  Degrees Celsius ( <sup>o</sup>C )      0.0      y         NaN   \n",
       "2016-01-01  Degrees Celsius ( <sup>o</sup>C )      0.0      y         NaN   \n",
       "2016-01-01  Degrees Celsius ( <sup>o</sup>C )      0.0      y         NaN   \n",
       "2016-01-01  Degrees Celsius ( <sup>o</sup>C )      0.0      y         NaN   \n",
       "\n",
       "           obs_type  minutes                                      name   \n",
       "date                                                                     \n",
       "2016-01-01        H    -99.0  Fresno-Garland                             \n",
       "2016-01-01        H    -99.0  Fresno-Garland                             \n",
       "2016-01-01        H    -99.0  Fresno-Garland                             \n",
       "2016-01-01        H    -99.0  Fresno-Garland                             \n",
       "2016-01-01        H    -99.0  Fresno-Garland                             "
      ]
     },
     "execution_count": 6,
     "metadata": {},
     "output_type": "execute_result"
    }
   ],
   "source": [
    "df1.index = df1.date\n",
    "df1.sort_index(inplace=True)\n",
    "df1.head()"
   ]
  },
  {
   "cell_type": "code",
   "execution_count": 7,
   "metadata": {
    "scrolled": true
   },
   "outputs": [
    {
     "data": {
      "text/html": [
       "<div>\n",
       "<style>\n",
       "    .dataframe thead tr:only-child th {\n",
       "        text-align: right;\n",
       "    }\n",
       "\n",
       "    .dataframe thead th {\n",
       "        text-align: left;\n",
       "    }\n",
       "\n",
       "    .dataframe tbody tr th {\n",
       "        vertical-align: top;\n",
       "    }\n",
       "</style>\n",
       "<table border=\"1\" class=\"dataframe\">\n",
       "  <thead>\n",
       "    <tr style=\"text-align: right;\">\n",
       "      <th></th>\n",
       "      <th>start_hour</th>\n",
       "      <th>value</th>\n",
       "      <th>quality</th>\n",
       "      <th>met_source</th>\n",
       "      <th>minutes</th>\n",
       "    </tr>\n",
       "  </thead>\n",
       "  <tbody>\n",
       "    <tr>\n",
       "      <th>count</th>\n",
       "      <td>8734.000000</td>\n",
       "      <td>8734.000000</td>\n",
       "      <td>8734.000000</td>\n",
       "      <td>0.0</td>\n",
       "      <td>8734.0</td>\n",
       "    </tr>\n",
       "    <tr>\n",
       "      <th>mean</th>\n",
       "      <td>11.499657</td>\n",
       "      <td>19.185613</td>\n",
       "      <td>0.005610</td>\n",
       "      <td>NaN</td>\n",
       "      <td>-99.0</td>\n",
       "    </tr>\n",
       "    <tr>\n",
       "      <th>std</th>\n",
       "      <td>6.918391</td>\n",
       "      <td>8.560131</td>\n",
       "      <td>0.074696</td>\n",
       "      <td>NaN</td>\n",
       "      <td>0.0</td>\n",
       "    </tr>\n",
       "    <tr>\n",
       "      <th>min</th>\n",
       "      <td>0.000000</td>\n",
       "      <td>-0.550000</td>\n",
       "      <td>0.000000</td>\n",
       "      <td>NaN</td>\n",
       "      <td>-99.0</td>\n",
       "    </tr>\n",
       "    <tr>\n",
       "      <th>25%</th>\n",
       "      <td>6.000000</td>\n",
       "      <td>12.702500</td>\n",
       "      <td>0.000000</td>\n",
       "      <td>NaN</td>\n",
       "      <td>-99.0</td>\n",
       "    </tr>\n",
       "    <tr>\n",
       "      <th>50%</th>\n",
       "      <td>11.000000</td>\n",
       "      <td>18.330000</td>\n",
       "      <td>0.000000</td>\n",
       "      <td>NaN</td>\n",
       "      <td>-99.0</td>\n",
       "    </tr>\n",
       "    <tr>\n",
       "      <th>75%</th>\n",
       "      <td>17.000000</td>\n",
       "      <td>24.877500</td>\n",
       "      <td>0.000000</td>\n",
       "      <td>NaN</td>\n",
       "      <td>-99.0</td>\n",
       "    </tr>\n",
       "    <tr>\n",
       "      <th>max</th>\n",
       "      <td>23.000000</td>\n",
       "      <td>41.730000</td>\n",
       "      <td>1.000000</td>\n",
       "      <td>NaN</td>\n",
       "      <td>-99.0</td>\n",
       "    </tr>\n",
       "  </tbody>\n",
       "</table>\n",
       "</div>"
      ],
      "text/plain": [
       "        start_hour        value      quality  met_source  minutes\n",
       "count  8734.000000  8734.000000  8734.000000         0.0   8734.0\n",
       "mean     11.499657    19.185613     0.005610         NaN    -99.0\n",
       "std       6.918391     8.560131     0.074696         NaN      0.0\n",
       "min       0.000000    -0.550000     0.000000         NaN    -99.0\n",
       "25%       6.000000    12.702500     0.000000         NaN    -99.0\n",
       "50%      11.000000    18.330000     0.000000         NaN    -99.0\n",
       "75%      17.000000    24.877500     0.000000         NaN    -99.0\n",
       "max      23.000000    41.730000     1.000000         NaN    -99.0"
      ]
     },
     "execution_count": 7,
     "metadata": {},
     "output_type": "execute_result"
    }
   ],
   "source": [
    "df1.describe()"
   ]
  },
  {
   "cell_type": "code",
   "execution_count": 8,
   "metadata": {},
   "outputs": [
    {
     "data": {
      "text/plain": [
       "pandas.core.series.Series"
      ]
     },
     "execution_count": 8,
     "metadata": {},
     "output_type": "execute_result"
    }
   ],
   "source": [
    "type(df1.value)"
   ]
  },
  {
   "cell_type": "code",
   "execution_count": 9,
   "metadata": {},
   "outputs": [
    {
     "data": {
      "text/plain": [
       "numpy.float64"
      ]
     },
     "execution_count": 9,
     "metadata": {},
     "output_type": "execute_result"
    }
   ],
   "source": [
    "df1.value = pd.to_numeric(df1.value)\n",
    "type(df1.iloc[0].value)"
   ]
  },
  {
   "cell_type": "code",
   "execution_count": 10,
   "metadata": {},
   "outputs": [
    {
     "data": {
      "text/plain": [
       "date\n",
       "2016-01-01    2.77\n",
       "2016-01-01    2.24\n",
       "2016-01-01    1.61\n",
       "2016-01-01    1.30\n",
       "2016-01-01    0.73\n",
       "Name: value, dtype: float64"
      ]
     },
     "execution_count": 10,
     "metadata": {},
     "output_type": "execute_result"
    }
   ],
   "source": [
    "df1.value.head()"
   ]
  },
  {
   "cell_type": "code",
   "execution_count": 11,
   "metadata": {},
   "outputs": [
    {
     "data": {
      "text/plain": [
       "<matplotlib.axes._subplots.AxesSubplot at 0x7f46e02ee320>"
      ]
     },
     "execution_count": 11,
     "metadata": {},
     "output_type": "execute_result"
    },
    {
     "data": {
      "image/png": "[encoded data removed]",
      "text/plain": [
       "<matplotlib.figure.Figure at 0x7f46e032e550>"
      ]
     },
     "metadata": {},
     "output_type": "display_data"
    }
   ],
   "source": [
    "df1.value.plot()"
   ]
  },
  {
   "cell_type": "code",
   "execution_count": 12,
   "metadata": {
    "collapsed": true
   },
   "outputs": [],
   "source": [
    "def read_file(filename):\n",
    "    df = pd.read_csv(filename, parse_dates=[1])\n",
    "    df.dropna(subset=['start_hour'], inplace=True)\n",
    "    df.index = df.date\n",
    "    df.sort_index(inplace=True)\n",
    "    df.value = pd.to_numeric(df.value)\n",
    "    return df"
   ]
  },
  {
   "cell_type": "code",
   "execution_count": 13,
   "metadata": {},
   "outputs": [
    {
     "data": {
      "text/html": [
       "<div>\n",
       "<style>\n",
       "    .dataframe thead tr:only-child th {\n",
       "        text-align: right;\n",
       "    }\n",
       "\n",
       "    .dataframe thead th {\n",
       "        text-align: left;\n",
       "    }\n",
       "\n",
       "    .dataframe tbody tr th {\n",
       "        vertical-align: top;\n",
       "    }\n",
       "</style>\n",
       "<table border=\"1\" class=\"dataframe\">\n",
       "  <thead>\n",
       "    <tr style=\"text-align: right;\">\n",
       "      <th></th>\n",
       "      <th>site</th>\n",
       "      <th>date</th>\n",
       "      <th>start_hour</th>\n",
       "      <th>value</th>\n",
       "      <th>variable</th>\n",
       "      <th>units</th>\n",
       "      <th>quality</th>\n",
       "      <th>prelim</th>\n",
       "      <th>met_source</th>\n",
       "      <th>obs_type</th>\n",
       "      <th>minutes</th>\n",
       "      <th>name</th>\n",
       "    </tr>\n",
       "    <tr>\n",
       "      <th>date</th>\n",
       "      <th></th>\n",
       "      <th></th>\n",
       "      <th></th>\n",
       "      <th></th>\n",
       "      <th></th>\n",
       "      <th></th>\n",
       "      <th></th>\n",
       "      <th></th>\n",
       "      <th></th>\n",
       "      <th></th>\n",
       "      <th></th>\n",
       "      <th></th>\n",
       "    </tr>\n",
       "  </thead>\n",
       "  <tbody>\n",
       "    <tr>\n",
       "      <th>2016-01-01</th>\n",
       "      <td>3781</td>\n",
       "      <td>2016-01-01</td>\n",
       "      <td>0.0</td>\n",
       "      <td>2.77</td>\n",
       "      <td>TEMP</td>\n",
       "      <td>Degrees Celsius ( &lt;sup&gt;o&lt;/sup&gt;C )</td>\n",
       "      <td>0.0</td>\n",
       "      <td>y</td>\n",
       "      <td>NaN</td>\n",
       "      <td>H</td>\n",
       "      <td>-99.0</td>\n",
       "      <td>Fresno-Garland</td>\n",
       "    </tr>\n",
       "    <tr>\n",
       "      <th>2016-01-01</th>\n",
       "      <td>3781</td>\n",
       "      <td>2016-01-01</td>\n",
       "      <td>1.0</td>\n",
       "      <td>2.24</td>\n",
       "      <td>TEMP</td>\n",
       "      <td>Degrees Celsius ( &lt;sup&gt;o&lt;/sup&gt;C )</td>\n",
       "      <td>0.0</td>\n",
       "      <td>y</td>\n",
       "      <td>NaN</td>\n",
       "      <td>H</td>\n",
       "      <td>-99.0</td>\n",
       "      <td>Fresno-Garland</td>\n",
       "    </tr>\n",
       "    <tr>\n",
       "      <th>2016-01-01</th>\n",
       "      <td>3781</td>\n",
       "      <td>2016-01-01</td>\n",
       "      <td>2.0</td>\n",
       "      <td>1.61</td>\n",
       "      <td>TEMP</td>\n",
       "      <td>Degrees Celsius ( &lt;sup&gt;o&lt;/sup&gt;C )</td>\n",
       "      <td>0.0</td>\n",
       "      <td>y</td>\n",
       "      <td>NaN</td>\n",
       "      <td>H</td>\n",
       "      <td>-99.0</td>\n",
       "      <td>Fresno-Garland</td>\n",
       "    </tr>\n",
       "    <tr>\n",
       "      <th>2016-01-01</th>\n",
       "      <td>3781</td>\n",
       "      <td>2016-01-01</td>\n",
       "      <td>3.0</td>\n",
       "      <td>1.30</td>\n",
       "      <td>TEMP</td>\n",
       "      <td>Degrees Celsius ( &lt;sup&gt;o&lt;/sup&gt;C )</td>\n",
       "      <td>0.0</td>\n",
       "      <td>y</td>\n",
       "      <td>NaN</td>\n",
       "      <td>H</td>\n",
       "      <td>-99.0</td>\n",
       "      <td>Fresno-Garland</td>\n",
       "    </tr>\n",
       "    <tr>\n",
       "      <th>2016-01-01</th>\n",
       "      <td>3781</td>\n",
       "      <td>2016-01-01</td>\n",
       "      <td>4.0</td>\n",
       "      <td>0.73</td>\n",
       "      <td>TEMP</td>\n",
       "      <td>Degrees Celsius ( &lt;sup&gt;o&lt;/sup&gt;C )</td>\n",
       "      <td>0.0</td>\n",
       "      <td>y</td>\n",
       "      <td>NaN</td>\n",
       "      <td>H</td>\n",
       "      <td>-99.0</td>\n",
       "      <td>Fresno-Garland</td>\n",
       "    </tr>\n",
       "  </tbody>\n",
       "</table>\n",
       "</div>"
      ],
      "text/plain": [
       "            site        date  start_hour  value variable  \\\n",
       "date                                                       \n",
       "2016-01-01  3781  2016-01-01         0.0   2.77     TEMP   \n",
       "2016-01-01  3781  2016-01-01         1.0   2.24     TEMP   \n",
       "2016-01-01  3781  2016-01-01         2.0   1.61     TEMP   \n",
       "2016-01-01  3781  2016-01-01         3.0   1.30     TEMP   \n",
       "2016-01-01  3781  2016-01-01         4.0   0.73     TEMP   \n",
       "\n",
       "                                        units  quality prelim  met_source  \\\n",
       "date                                                                        \n",
       "2016-01-01  Degrees Celsius ( <sup>o</sup>C )      0.0      y         NaN   \n",
       "2016-01-01  Degrees Celsius ( <sup>o</sup>C )      0.0      y         NaN   \n",
       "2016-01-01  Degrees Celsius ( <sup>o</sup>C )      0.0      y         NaN   \n",
       "2016-01-01  Degrees Celsius ( <sup>o</sup>C )      0.0      y         NaN   \n",
       "2016-01-01  Degrees Celsius ( <sup>o</sup>C )      0.0      y         NaN   \n",
       "\n",
       "           obs_type  minutes                                      name   \n",
       "date                                                                     \n",
       "2016-01-01        H    -99.0  Fresno-Garland                             \n",
       "2016-01-01        H    -99.0  Fresno-Garland                             \n",
       "2016-01-01        H    -99.0  Fresno-Garland                             \n",
       "2016-01-01        H    -99.0  Fresno-Garland                             \n",
       "2016-01-01        H    -99.0  Fresno-Garland                             "
      ]
     },
     "execution_count": 13,
     "metadata": {},
     "output_type": "execute_result"
    }
   ],
   "source": [
    "df2 = read_file('data/Fresno/TEMP_PICKDATA_2016-12-31 (1).csv')\n",
    "df2.head()"
   ]
  },
  {
   "cell_type": "code",
   "execution_count": 14,
   "metadata": {},
   "outputs": [
    {
     "data": {
      "text/plain": [
       "<matplotlib.axes._subplots.AxesSubplot at 0x7f46dfc06080>"
      ]
     },
     "execution_count": 14,
     "metadata": {},
     "output_type": "execute_result"
    },
    {
     "data": {
      "image/png": "[encoded data removed]",
      "text/plain": [
       "<matplotlib.figure.Figure at 0x7f46e032eda0>"
      ]
     },
     "metadata": {},
     "output_type": "display_data"
    }
   ],
   "source": [
    "df2.value.plot()"
   ]
  },
  {
   "cell_type": "code",
   "execution_count": 15,
   "metadata": {},
   "outputs": [
    {
     "data": {
      "text/plain": [
       "<matplotlib.axes._subplots.AxesSubplot at 0x7f46dfb7da58>"
      ]
     },
     "execution_count": 15,
     "metadata": {},
     "output_type": "execute_result"
    },
    {
     "data": {
      "image/png": "[encoded data removed]",
      "text/plain": [
       "<matplotlib.figure.Figure at 0x7f46dfae9da0>"
      ]
     },
     "metadata": {},
     "output_type": "display_data"
    }
   ],
   "source": [
    "df3 = read_file('data/Fresno/TEMP_PICKDATA_2015-12-31.csv')\n",
    "df3.value.plot()"
   ]
  },
  {
   "cell_type": "code",
   "execution_count": null,
   "metadata": {
    "collapsed": true
   },
   "outputs": [],
   "source": []
  }
 ],
 "metadata": {
  "kernelspec": {
   "display_name": "Python 3",
   "language": "python",
   "name": "python3"
  },
  "language_info": {
   "codemirror_mode": {
    "name": "ipython",
    "version": 3
   },
   "file_extension": ".py",
   "mimetype": "text/x-python",
   "name": "python",
   "nbconvert_exporter": "python",
   "pygments_lexer": "ipython3",
   "version": "3.6.2"
  }
 },
 "nbformat": 4,
 "nbformat_minor": 2
}
