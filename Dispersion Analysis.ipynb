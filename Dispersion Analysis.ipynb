{
 "cells": [
  {
   "cell_type": "code",
   "execution_count": 2,
   "metadata": {
    "collapsed": true
   },
   "outputs": [],
   "source": [
    "%matplotlib inline\n",
    "\n",
    "import numpy as np\n",
    "import pandas as pd\n",
    "import matplotlib.pyplot as plt\n",
    "import matplotlib.cm as cm"
   ]
  },
  {
   "cell_type": "code",
   "execution_count": 9,
   "metadata": {},
   "outputs": [
    {
     "data": {
      "text/html": [
       "<div>\n",
       "<style>\n",
       "    .dataframe thead tr:only-child th {\n",
       "        text-align: right;\n",
       "    }\n",
       "\n",
       "    .dataframe thead th {\n",
       "        text-align: left;\n",
       "    }\n",
       "\n",
       "    .dataframe tbody tr th {\n",
       "        vertical-align: top;\n",
       "    }\n",
       "</style>\n",
       "<table border=\"1\" class=\"dataframe\">\n",
       "  <thead>\n",
       "    <tr style=\"text-align: right;\">\n",
       "      <th></th>\n",
       "      <th>date</th>\n",
       "      <th>ozone</th>\n",
       "      <th>wd</th>\n",
       "      <th>ws</th>\n",
       "      <th>pm10</th>\n",
       "      <th>pm25</th>\n",
       "      <th>temp</th>\n",
       "      <th>nox</th>\n",
       "    </tr>\n",
       "    <tr>\n",
       "      <th>date</th>\n",
       "      <th></th>\n",
       "      <th></th>\n",
       "      <th></th>\n",
       "      <th></th>\n",
       "      <th></th>\n",
       "      <th></th>\n",
       "      <th></th>\n",
       "      <th></th>\n",
       "    </tr>\n",
       "  </thead>\n",
       "  <tbody>\n",
       "    <tr>\n",
       "      <th>2014-01-01 00:00:00</th>\n",
       "      <td>2014-01-01 00:00:00</td>\n",
       "      <td>0.0014</td>\n",
       "      <td>0.0</td>\n",
       "      <td>0.0</td>\n",
       "      <td>172.2</td>\n",
       "      <td>136.4</td>\n",
       "      <td>6.21</td>\n",
       "      <td>0.1685</td>\n",
       "    </tr>\n",
       "    <tr>\n",
       "      <th>2014-01-01 01:00:00</th>\n",
       "      <td>2014-01-01 01:00:00</td>\n",
       "      <td>0.0022</td>\n",
       "      <td>0.0</td>\n",
       "      <td>0.0</td>\n",
       "      <td>187.0</td>\n",
       "      <td>152.3</td>\n",
       "      <td>5.63</td>\n",
       "      <td>0.1753</td>\n",
       "    </tr>\n",
       "    <tr>\n",
       "      <th>2014-01-01 02:00:00</th>\n",
       "      <td>2014-01-01 02:00:00</td>\n",
       "      <td>0.0023</td>\n",
       "      <td>0.0</td>\n",
       "      <td>0.0</td>\n",
       "      <td>195.5</td>\n",
       "      <td>161.6</td>\n",
       "      <td>5.08</td>\n",
       "      <td>0.1599</td>\n",
       "    </tr>\n",
       "    <tr>\n",
       "      <th>2014-01-01 03:00:00</th>\n",
       "      <td>2014-01-01 03:00:00</td>\n",
       "      <td>0.0017</td>\n",
       "      <td>75.0</td>\n",
       "      <td>0.6</td>\n",
       "      <td>178.8</td>\n",
       "      <td>151.9</td>\n",
       "      <td>4.63</td>\n",
       "      <td>0.1439</td>\n",
       "    </tr>\n",
       "    <tr>\n",
       "      <th>2014-01-01 04:00:00</th>\n",
       "      <td>2014-01-01 04:00:00</td>\n",
       "      <td>NaN</td>\n",
       "      <td>0.0</td>\n",
       "      <td>0.0</td>\n",
       "      <td>140.3</td>\n",
       "      <td>121.4</td>\n",
       "      <td>4.36</td>\n",
       "      <td>NaN</td>\n",
       "    </tr>\n",
       "  </tbody>\n",
       "</table>\n",
       "</div>"
      ],
      "text/plain": [
       "                                   date   ozone    wd   ws   pm10   pm25  \\\n",
       "date                                                                       \n",
       "2014-01-01 00:00:00 2014-01-01 00:00:00  0.0014   0.0  0.0  172.2  136.4   \n",
       "2014-01-01 01:00:00 2014-01-01 01:00:00  0.0022   0.0  0.0  187.0  152.3   \n",
       "2014-01-01 02:00:00 2014-01-01 02:00:00  0.0023   0.0  0.0  195.5  161.6   \n",
       "2014-01-01 03:00:00 2014-01-01 03:00:00  0.0017  75.0  0.6  178.8  151.9   \n",
       "2014-01-01 04:00:00 2014-01-01 04:00:00     NaN   0.0  0.0  140.3  121.4   \n",
       "\n",
       "                     temp     nox  \n",
       "date                               \n",
       "2014-01-01 00:00:00  6.21  0.1685  \n",
       "2014-01-01 01:00:00  5.63  0.1753  \n",
       "2014-01-01 02:00:00  5.08  0.1599  \n",
       "2014-01-01 03:00:00  4.63  0.1439  \n",
       "2014-01-01 04:00:00  4.36     NaN  "
      ]
     },
     "execution_count": 9,
     "metadata": {},
     "output_type": "execute_result"
    }
   ],
   "source": [
    "df1 = pd.read_csv(\"data_merged_all_cleaned.csv\", parse_dates=[0])\n",
    "df1.index = df1.date\n",
    "df1.head()"
   ]
  },
  {
   "cell_type": "code",
   "execution_count": 11,
   "metadata": {},
   "outputs": [
    {
     "data": {
      "text/plain": [
       "1.3021791705588044"
      ]
     },
     "execution_count": 11,
     "metadata": {},
     "output_type": "execute_result"
    }
   ],
   "source": [
    "df1.ws.mean()"
   ]
  },
  {
   "cell_type": "code",
   "execution_count": 25,
   "metadata": {},
   "outputs": [
    {
     "name": "stdout",
     "output_type": "stream",
     "text": [
      "5.838461538461538\n",
      "2.052307692307692\n"
     ]
    }
   ],
   "source": [
    "def area_dispersion():\n",
    "    pm_10 = 66/1000. # mg/vm\n",
    "    pm_25 = 23.2/1000. # mg/vm\n",
    "    dist_traveled = 26080 # m\n",
    "    total_dist_traveled = 78535 # m\n",
    "    cars_per_day = 230000 # cars / day\n",
    "    cars = 230000\n",
    "    cars_per_second = cars_per_day / 86400\n",
    "    avg_spd = 26.8 # m/s\n",
    "    box_vol = 26080 * 26080 * 2000\n",
    "    width_of_car = 2 # m\n",
    "    length_of_car = 3 # m\n",
    "    avg_wdspd = 1.3 # m/s\n",
    "    H = 2000 # m (boundary layer height)\n",
    "    \n",
    "    qs_pm10 = (pm_10 * dist_traveled) * cars \\\n",
    "              / (dist_traveled**2)\n",
    "    qs_pm25 = (pm_25 * dist_traveled) * cars \\\n",
    "              / (dist_traveled**2)\n",
    "        \n",
    "    C_pm10 = (qs_pm10 * dist_traveled) / (avg_wdspd*H)\n",
    "    C_pm25 = (qs_pm25 * dist_traveled) / (avg_wdspd*H)\n",
    "    print(C_pm10) # Should be ~45ish\n",
    "    print(C_pm25)\n",
    "    \n",
    "area_dispersion()\n",
    "    \n"
   ]
  },
  {
   "cell_type": "code",
   "execution_count": 18,
   "metadata": {},
   "outputs": [
    {
     "data": {
      "text/plain": [
       "450000.0"
      ]
     },
     "execution_count": 18,
     "metadata": {},
     "output_type": "execute_result"
    }
   ],
   "source": [
    "45 * 10e3"
   ]
  },
  {
   "cell_type": "code",
   "execution_count": null,
   "metadata": {
    "collapsed": true
   },
   "outputs": [],
   "source": []
  }
 ],
 "metadata": {
  "kernelspec": {
   "display_name": "Python 3",
   "language": "python",
   "name": "python3"
  },
  "language_info": {
   "codemirror_mode": {
    "name": "ipython",
    "version": 3
   },
   "file_extension": ".py",
   "mimetype": "text/x-python",
   "name": "python",
   "nbconvert_exporter": "python",
   "pygments_lexer": "ipython3",
   "version": "3.6.2"
  }
 },
 "nbformat": 4,
 "nbformat_minor": 2
}
